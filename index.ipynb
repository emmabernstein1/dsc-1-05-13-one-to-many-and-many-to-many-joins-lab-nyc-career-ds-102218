{
 "cells": [
  {
   "cell_type": "markdown",
   "metadata": {},
   "source": [
    "# One-to-Many and Many-to-Many Joins - Lab"
   ]
  },
  {
   "cell_type": "markdown",
   "metadata": {},
   "source": [
    "## Introduction"
   ]
  },
  {
   "cell_type": "markdown",
   "metadata": {},
   "source": [
    "In this lab, you'll practice your knowledge on One-to-Many and Many-to-many relationships!"
   ]
  },
  {
   "cell_type": "markdown",
   "metadata": {},
   "source": [
    "## Objectives"
   ]
  },
  {
   "cell_type": "markdown",
   "metadata": {},
   "source": [
    "You will be able to:\n",
    "- Query data including Many-to-Many relationships\n",
    "- Write queries that make use of Join Tables"
   ]
  },
  {
   "cell_type": "markdown",
   "metadata": {},
   "source": [
    "## One-to-Many and Many-to-Many Joins\n",
    "<img src='Database-Schema.png' width=550>"
   ]
  },
  {
   "cell_type": "markdown",
   "metadata": {},
   "source": [
    "## Employees and their Office (a One-to-One join)\n",
    "\n",
    "Return a list of all of the employees with their first name, last name and the city and state of the office that they work out of (if they have one). Include all employees and order them by their first name, then their last name."
   ]
  },
  {
   "cell_type": "code",
   "execution_count": 10,
   "metadata": {},
   "outputs": [
    {
     "name": "stdout",
     "output_type": "stream",
     "text": [
      "Number of results 19\n"
     ]
    },
    {
     "data": {
      "text/html": [
       "<div>\n",
       "<style scoped>\n",
       "    .dataframe tbody tr th:only-of-type {\n",
       "        vertical-align: middle;\n",
       "    }\n",
       "\n",
       "    .dataframe tbody tr th {\n",
       "        vertical-align: top;\n",
       "    }\n",
       "\n",
       "    .dataframe thead th {\n",
       "        text-align: right;\n",
       "    }\n",
       "</style>\n",
       "<table border=\"1\" class=\"dataframe\">\n",
       "  <thead>\n",
       "    <tr style=\"text-align: right;\">\n",
       "      <th></th>\n",
       "      <th>0</th>\n",
       "      <th>1</th>\n",
       "      <th>2</th>\n",
       "      <th>3</th>\n",
       "    </tr>\n",
       "  </thead>\n",
       "  <tbody>\n",
       "    <tr>\n",
       "      <th>0</th>\n",
       "      <td>Loui</td>\n",
       "      <td>Bondur</td>\n",
       "      <td>Paris</td>\n",
       "      <td></td>\n",
       "    </tr>\n",
       "    <tr>\n",
       "      <th>1</th>\n",
       "      <td>Larry</td>\n",
       "      <td>Bott</td>\n",
       "      <td>London</td>\n",
       "      <td></td>\n",
       "    </tr>\n",
       "    <tr>\n",
       "      <th>2</th>\n",
       "      <td>Anthony</td>\n",
       "      <td>Bow</td>\n",
       "      <td>San Francisco</td>\n",
       "      <td>CA</td>\n",
       "    </tr>\n",
       "    <tr>\n",
       "      <th>3</th>\n",
       "      <td>Pamela</td>\n",
       "      <td>Castillo</td>\n",
       "      <td>Paris</td>\n",
       "      <td></td>\n",
       "    </tr>\n",
       "    <tr>\n",
       "      <th>4</th>\n",
       "      <td>Julie</td>\n",
       "      <td>Firrelli</td>\n",
       "      <td>Boston</td>\n",
       "      <td>MA</td>\n",
       "    </tr>\n",
       "  </tbody>\n",
       "</table>\n",
       "</div>"
      ],
      "text/plain": [
       "         0         1              2   3\n",
       "0     Loui    Bondur          Paris    \n",
       "1    Larry      Bott         London    \n",
       "2  Anthony       Bow  San Francisco  CA\n",
       "3   Pamela  Castillo          Paris    \n",
       "4    Julie  Firrelli         Boston  MA"
      ]
     },
     "execution_count": 10,
     "metadata": {},
     "output_type": "execute_result"
    }
   ],
   "source": [
    "import sqlite3\n",
    "import pandas as pd\n",
    "conn = sqlite3.connect('data.sqlite')\n",
    "cursor = conn.cursor()\n",
    "\n",
    "cursor.execute('''SELECT firstName, lastName, offices.city, offices.state FROM employees JOIN offices USING(officeCode) GROUP BY lastName;''')\n",
    "#Your code here\n",
    "\n",
    "df = pd.DataFrame(cursor.fetchall())\n",
    "print('Number of results', len(df))\n",
    "df.head()"
   ]
  },
  {
   "cell_type": "markdown",
   "metadata": {},
   "source": [
    "## Customers and their Orders (a One-to-Many join)\n",
    "\n",
    "Return a list of all of the customers. For each customer return a record for each of their order numbers, order dates and statuses."
   ]
  },
  {
   "cell_type": "code",
   "execution_count": 13,
   "metadata": {},
   "outputs": [
    {
     "data": {
      "text/plain": [
       "[('AV Stores, Co.', '10332', '2004-11-17', 'Shipped'),\n",
       " ('Alpha Cognac', '10397', '2005-03-28', 'Shipped'),\n",
       " ('Amica Models & Co.', '10293', '2004-09-09', 'Shipped'),\n",
       " (\"Anna's Decorations, Ltd\", '10391', '2005-03-09', 'Shipped'),\n",
       " ('Atelier graphique', '10345', '2004-11-25', 'Shipped'),\n",
       " ('Australian Collectables, Ltd', '10415', '2005-05-09', 'Disputed'),\n",
       " ('Australian Collectors, Co.', '10347', '2004-11-29', 'Shipped'),\n",
       " ('Australian Gift Network, Co', '10374', '2005-02-02', 'Shipped'),\n",
       " ('Auto Associés & Cie.', '10304', '2004-10-11', 'Shipped'),\n",
       " ('Auto Canal+ Petit', '10402', '2005-04-07', 'Shipped'),\n",
       " ('Auto-Moto Classics Inc.', '10352', '2004-12-03', 'Shipped'),\n",
       " ('Baane Mini Imports', '10325', '2004-11-05', 'Shipped'),\n",
       " ('Bavarian Collectables Imports, Co.', '10296', '2004-09-15', 'Shipped'),\n",
       " ('Blauer See Auto, Co.', '10323', '2004-11-05', 'Shipped'),\n",
       " ('Boards & Toys Co.', '10376', '2005-02-08', 'Shipped'),\n",
       " ('CAF Imports', '10231', '2004-03-19', 'Shipped'),\n",
       " ('Cambridge Collectables Co.', '10249', '2004-05-08', 'Shipped'),\n",
       " ('Canadian Gift Exchange Network', '10313', '2004-10-22', 'Shipped'),\n",
       " ('Classic Gift Ideas, Inc', '10307', '2004-10-14', 'Shipped'),\n",
       " ('Classic Legends Inc.', '10337', '2004-11-21', 'Shipped'),\n",
       " ('Clover Collections, Co.', '10297', '2004-09-16', 'Shipped'),\n",
       " ('Collectable Mini Designs Co.', '10226', '2004-02-26', 'Shipped'),\n",
       " ('Collectables For Less Inc.', '10369', '2005-01-20', 'Shipped'),\n",
       " ('Corporate Gift Ideas Co.', '10384', '2005-02-23', 'Shipped'),\n",
       " ('Corrida Auto Replicas, Ltd', '10348', '2004-11-01', 'Shipped'),\n",
       " ('Cruz & Sons Co.', '10330', '2004-11-16', 'Shipped'),\n",
       " ('Daedalus Designs Imports', '10224', '2004-02-21', 'Shipped'),\n",
       " ('Danish Wholesale Imports', '10406', '2005-04-15', 'Disputed'),\n",
       " ('Diecast Classics Inc.', '10422', '2005-05-30', 'In Process'),\n",
       " ('Diecast Collectables', '10243', '2004-04-26', 'Shipped'),\n",
       " ('Double Decker Gift Stores, Ltd', '10213', '2004-01-22', 'Shipped'),\n",
       " ('Down Under Souveniers, Inc', '10404', '2005-04-08', 'Shipped'),\n",
       " ('Dragon Souveniers, Ltd.', '10387', '2005-03-02', 'Shipped'),\n",
       " ('Enaco Distributors', '10340', '2004-11-24', 'Shipped'),\n",
       " ('Euro+ Shopping Channel', '10424', '2005-05-31', 'In Process'),\n",
       " ('Extreme Desk Decorations, Ltd', '10418', '2005-05-16', 'Shipped'),\n",
       " ('Frau da Collezione', '10218', '2004-02-09', 'Shipped'),\n",
       " ('FunGiftIdeas.com', '10388', '2005-03-03', 'Shipped'),\n",
       " ('Gift Depot Inc.', '10413', '2005-05-05', 'Shipped'),\n",
       " ('Gift Ideas Corp.', '10353', '2004-12-04', 'Shipped'),\n",
       " ('Gifts4AllAges.com', '10414', '2005-05-06', 'On Hold'),\n",
       " ('GiftsForHim.com', '10410', '2005-04-29', 'Shipped'),\n",
       " ('Handji Gifts& Co', '10409', '2005-04-23', 'Shipped'),\n",
       " ('Heintze Collectables', '10314', '2004-10-22', 'Shipped'),\n",
       " ('Herkku Gifts', '10289', '2004-09-03', 'Shipped'),\n",
       " ('Iberia Gift Imports, Corp.', '10303', '2004-10-06', 'Shipped'),\n",
       " (\"Kelly's Gift Shop\", '10399', '2005-04-01', 'Shipped'),\n",
       " ('King Kong Collectables, Co.', '10200', '2003-12-01', 'Shipped'),\n",
       " (\"L'ordine Souveniers\", '10416', '2005-05-10', 'Shipped'),\n",
       " (\"La Corne D'abondance, Co.\", '10336', '2004-11-20', 'Shipped'),\n",
       " ('La Rochelle Gifts', '10425', '2005-05-31', 'In Process'),\n",
       " ('Land of Toys Inc.', '10329', '2004-11-15', 'Shipped'),\n",
       " ('Lyon Souveniers', '10395', '2005-03-17', 'Shipped'),\n",
       " ('Marseille Mini Autos', '10364', '2005-01-06', 'Shipped'),\n",
       " (\"Marta's Replicas Co.\", '10305', '2004-10-13', 'Shipped'),\n",
       " (\"Men 'R' US Retailers, Ltd.\", '10209', '2004-01-09', 'Shipped'),\n",
       " ('Microscale Inc.', '10319', '2004-11-03', 'Shipped'),\n",
       " ('Mini Auto Werke', '10392', '2005-03-10', 'Shipped'),\n",
       " ('Mini Caravy', '10405', '2005-04-14', 'Shipped'),\n",
       " ('Mini Classics', '10308', '2004-10-15', 'Shipped'),\n",
       " ('Mini Creations Ltd.', '10365', '2005-01-07', 'Shipped'),\n",
       " ('Mini Gifts Distributors Ltd.', '10421', '2005-05-29', 'In Process'),\n",
       " ('Mini Wheels Co.', '10333', '2004-11-18', 'Shipped'),\n",
       " ('Motor Mint Distributors Inc.', '10331', '2004-11-17', 'Shipped'),\n",
       " ('Muscle Machine Inc', '10349', '2004-12-01', 'Shipped'),\n",
       " ('Norway Gifts By Mail, Co.', '10301', '2003-10-05', 'Shipped'),\n",
       " ('Online Diecast Creations Co.', '10322', '2004-11-04', 'Shipped'),\n",
       " ('Online Mini Collectables', '10294', '2004-09-10', 'Shipped'),\n",
       " ('Osaka Souveniers Co.', '10240', '2004-04-13', 'Shipped'),\n",
       " ('Oulu Toy Supplies, Inc.', '10373', '2005-01-31', 'Shipped'),\n",
       " ('Petit Auto', '10423', '2005-05-30', 'In Process'),\n",
       " ('Québec Home Shopping Network', '10411', '2005-05-01', 'Shipped'),\n",
       " ('Reims Collectables', '10398', '2005-03-30', 'Shipped'),\n",
       " ('Rovelli Gifts', '10328', '2004-11-12', 'Shipped'),\n",
       " ('Royal Canadian Collectables, Ltd.', '10283', '2004-08-20', 'Shipped'),\n",
       " ('Royale Belge', '10366', '2005-01-10', 'Shipped'),\n",
       " ('Salzburg Collectables', '10419', '2005-05-17', 'Shipped'),\n",
       " ('Saveley & Henriot, Co.', '10227', '2004-03-02', 'Shipped'),\n",
       " ('Scandinavian Gift Ideas', '10389', '2005-03-03', 'Shipped'),\n",
       " ('Signal Collectibles Ltd.', '10219', '2004-02-10', 'Shipped'),\n",
       " ('Signal Gift Stores', '10346', '2004-11-29', 'Shipped'),\n",
       " ('Souveniers And Things Co.', '10420', '2005-05-29', 'In Process'),\n",
       " ('Stylish Desk Decors, Co.', '10351', '2004-12-03', 'Shipped'),\n",
       " ('Suominen Souveniers', '10363', '2005-01-06', 'Shipped'),\n",
       " ('Super Scale Inc.', '10245', '2004-05-04', 'Shipped'),\n",
       " ('Technics Stores Inc.', '10362', '2005-01-05', 'Shipped'),\n",
       " ('Tekni Collectables Inc.', '10401', '2005-04-03', 'On Hold'),\n",
       " ('The Sharp Gifts Warehouse', '10407', '2005-04-22', 'On Hold'),\n",
       " ('Tokyo Collectables, Ltd', '10408', '2005-04-22', 'Shipped'),\n",
       " ('Toms Spezialitäten, Ltd', '10310', '2004-10-16', 'Shipped'),\n",
       " ('Toys of Finland, Co.', '10377', '2005-02-09', 'Shipped'),\n",
       " ('Toys4GrownUps.com', '10367', '2005-01-12', 'Resolved'),\n",
       " ('UK Collectables, Ltd.', '10403', '2005-04-08', 'Shipped'),\n",
       " ('Vida Sport, Ltd', '10287', '2004-08-30', 'Shipped'),\n",
       " ('Vitachrome Inc.', '10324', '2004-11-05', 'Shipped'),\n",
       " ('Volvo Model Replicas, Co', '10334', '2004-11-19', 'On Hold'),\n",
       " ('West Coast Collectables Co.', '10215', '2004-01-29', 'Shipped'),\n",
       " ('giftsbymail.co.uk', '10316', '2004-11-01', 'Shipped')]"
      ]
     },
     "execution_count": 13,
     "metadata": {},
     "output_type": "execute_result"
    }
   ],
   "source": [
    "cursor.execute('''SELECT customerName, orderNumber, orderDate, status FROM orders JOIN customers USING(customerNumber) GROUP BY customerName;''').fetchall()\n",
    "\n",
    "# Your code here"
   ]
  },
  {
   "cell_type": "markdown",
   "metadata": {},
   "source": [
    "## Orders and their Order Details (another One-to-Many join)\n",
    "\n",
    "Return a list of orders. For each order return a record for each order detail within the order."
   ]
  },
  {
   "cell_type": "code",
   "execution_count": 3,
   "metadata": {},
   "outputs": [],
   "source": [
    "# Your code here"
   ]
  },
  {
   "cell_type": "markdown",
   "metadata": {},
   "source": [
    "## Orders, Order details and Product Details (a Many-to-Many Join)"
   ]
  },
  {
   "cell_type": "markdown",
   "metadata": {},
   "source": [
    "Return a list of the orders with the the order information, and allthe product information for each product in the order. "
   ]
  },
  {
   "cell_type": "code",
   "execution_count": 4,
   "metadata": {},
   "outputs": [],
   "source": [
    "# Your code here"
   ]
  },
  {
   "cell_type": "markdown",
   "metadata": {},
   "source": [
    "## Summary"
   ]
  },
  {
   "cell_type": "markdown",
   "metadata": {},
   "source": [
    "In this lab, you practiced your knowledge on One-to-Many and Many-to-many relationships!"
   ]
  }
 ],
 "metadata": {
  "kernelspec": {
   "display_name": "Python 3",
   "language": "python",
   "name": "python3"
  },
  "language_info": {
   "codemirror_mode": {
    "name": "ipython",
    "version": 3
   },
   "file_extension": ".py",
   "mimetype": "text/x-python",
   "name": "python",
   "nbconvert_exporter": "python",
   "pygments_lexer": "ipython3",
   "version": "3.6.6"
  }
 },
 "nbformat": 4,
 "nbformat_minor": 2
}
